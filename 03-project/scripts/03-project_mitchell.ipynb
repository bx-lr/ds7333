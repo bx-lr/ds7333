{
 "cells": [
  {
   "cell_type": "code",
   "execution_count": 3,
   "metadata": {},
   "outputs": [
    {
     "data": {
      "text/html": [
       "<div>\n",
       "<style scoped>\n",
       "    .dataframe tbody tr th:only-of-type {\n",
       "        vertical-align: middle;\n",
       "    }\n",
       "\n",
       "    .dataframe tbody tr th {\n",
       "        vertical-align: top;\n",
       "    }\n",
       "\n",
       "    .dataframe thead th {\n",
       "        text-align: right;\n",
       "    }\n",
       "</style>\n",
       "<table border=\"1\" class=\"dataframe\">\n",
       "  <thead>\n",
       "    <tr style=\"text-align: right;\">\n",
       "      <th></th>\n",
       "      <th>fpath</th>\n",
       "      <th>subject</th>\n",
       "      <th>payload</th>\n",
       "      <th>contenttype</th>\n",
       "      <th>isSpam</th>\n",
       "    </tr>\n",
       "  </thead>\n",
       "  <tbody>\n",
       "    <tr>\n",
       "      <th>0</th>\n",
       "      <td>C:\\Users\\research_laptop\\Desktop\\projects\\scho...</td>\n",
       "      <td>Re: New Sequences Window</td>\n",
       "      <td>Date:        Wed, 21 Aug 2002 10:54:46 -05...</td>\n",
       "      <td>text/plain</td>\n",
       "      <td>0.0</td>\n",
       "    </tr>\n",
       "    <tr>\n",
       "      <th>1</th>\n",
       "      <td>C:\\Users\\research_laptop\\Desktop\\projects\\scho...</td>\n",
       "      <td>[zzzzteana] RE: Alexander</td>\n",
       "      <td>Martin A posted:\\nTassos Papadopoulos, the Gre...</td>\n",
       "      <td>text/plain</td>\n",
       "      <td>0.0</td>\n",
       "    </tr>\n",
       "    <tr>\n",
       "      <th>2</th>\n",
       "      <td>C:\\Users\\research_laptop\\Desktop\\projects\\scho...</td>\n",
       "      <td>[zzzzteana] Moscow bomber</td>\n",
       "      <td>Man Threatens Explosion In Moscow \\n\\nThursday...</td>\n",
       "      <td>text/plain</td>\n",
       "      <td>0.0</td>\n",
       "    </tr>\n",
       "    <tr>\n",
       "      <th>3</th>\n",
       "      <td>C:\\Users\\research_laptop\\Desktop\\projects\\scho...</td>\n",
       "      <td>[IRR] Klez: The Virus That  Won't Die</td>\n",
       "      <td>Klez: The Virus That Won't Die\\n \\nAlready the...</td>\n",
       "      <td>text/plain</td>\n",
       "      <td>0.0</td>\n",
       "    </tr>\n",
       "    <tr>\n",
       "      <th>4</th>\n",
       "      <td>C:\\Users\\research_laptop\\Desktop\\projects\\scho...</td>\n",
       "      <td>Re: [zzzzteana] Nothing like mama used to make</td>\n",
       "      <td>&gt;  in adding cream to spaghetti carbonara, whi...</td>\n",
       "      <td>text/plain</td>\n",
       "      <td>0.0</td>\n",
       "    </tr>\n",
       "  </tbody>\n",
       "</table>\n",
       "</div>"
      ],
      "text/plain": [
       "                                               fpath  \\\n",
       "0  C:\\Users\\research_laptop\\Desktop\\projects\\scho...   \n",
       "1  C:\\Users\\research_laptop\\Desktop\\projects\\scho...   \n",
       "2  C:\\Users\\research_laptop\\Desktop\\projects\\scho...   \n",
       "3  C:\\Users\\research_laptop\\Desktop\\projects\\scho...   \n",
       "4  C:\\Users\\research_laptop\\Desktop\\projects\\scho...   \n",
       "\n",
       "                                          subject  \\\n",
       "0                        Re: New Sequences Window   \n",
       "1                       [zzzzteana] RE: Alexander   \n",
       "2                       [zzzzteana] Moscow bomber   \n",
       "3           [IRR] Klez: The Virus That  Won't Die   \n",
       "4  Re: [zzzzteana] Nothing like mama used to make   \n",
       "\n",
       "                                             payload contenttype  isSpam  \n",
       "0      Date:        Wed, 21 Aug 2002 10:54:46 -05...  text/plain     0.0  \n",
       "1  Martin A posted:\\nTassos Papadopoulos, the Gre...  text/plain     0.0  \n",
       "2  Man Threatens Explosion In Moscow \\n\\nThursday...  text/plain     0.0  \n",
       "3  Klez: The Virus That Won't Die\\n \\nAlready the...  text/plain     0.0  \n",
       "4  >  in adding cream to spaghetti carbonara, whi...  text/plain     0.0  "
      ]
     },
     "execution_count": 3,
     "metadata": {},
     "output_type": "execute_result"
    }
   ],
   "source": [
    "import pandas as pd\n",
    "df = pd.read_csv('..\\data.csv')\n",
    "df.head()\n"
   ]
  },
  {
   "cell_type": "code",
   "execution_count": 14,
   "metadata": {},
   "outputs": [
    {
     "data": {
      "text/plain": [
       "fpath           object\n",
       "subject         object\n",
       "payload         object\n",
       "contenttype     object\n",
       "isSpam         float64\n",
       "dtype: object"
      ]
     },
     "execution_count": 14,
     "metadata": {},
     "output_type": "execute_result"
    }
   ],
   "source": [
    "df.dtypes\n"
   ]
  },
  {
   "cell_type": "code",
   "execution_count": 36,
   "metadata": {},
   "outputs": [
    {
     "name": "stderr",
     "output_type": "stream",
     "text": [
      "C:\\Users\\research_laptop\\AppData\\Local\\Temp\\ipykernel_35356\\3978132860.py:4: FutureWarning: The default value of regex will change from True to False in a future version.\n",
      "  tmp = tmp.str.replace(r, '')\n",
      "C:\\Users\\research_laptop\\AppData\\Local\\Temp\\ipykernel_35356\\3978132860.py:4: FutureWarning: The default value of regex will change from True to False in a future version. In addition, single character regular expressions will *not* be treated as literal strings when regex=True.\n",
      "  tmp = tmp.str.replace(r, '')\n"
     ]
    }
   ],
   "source": [
    "remove = ['\\n', '\\t', '\\r','\\\\n', '\\\\t', '\\\\r', '!', '@', '#', '$', '%', '^', '&', '*', '(', ')', '-', '_', '+', '+', '{', '}', '[', ']', '\\\\', '|', ':', ';', '\"', \"'\", ',', '.', '/', '?', '<', '>', '`', '~']\n",
    "tmp = df['payload']\n",
    "for r in remove:\n",
    "    tmp = tmp.str.replace(r, '')\n",
    "df['payload'] = tmp"
   ]
  },
  {
   "cell_type": "code",
   "execution_count": 38,
   "metadata": {},
   "outputs": [
    {
     "data": {
      "text/html": [
       "<div>\n",
       "<style scoped>\n",
       "    .dataframe tbody tr th:only-of-type {\n",
       "        vertical-align: middle;\n",
       "    }\n",
       "\n",
       "    .dataframe tbody tr th {\n",
       "        vertical-align: top;\n",
       "    }\n",
       "\n",
       "    .dataframe thead th {\n",
       "        text-align: right;\n",
       "    }\n",
       "</style>\n",
       "<table border=\"1\" class=\"dataframe\">\n",
       "  <thead>\n",
       "    <tr style=\"text-align: right;\">\n",
       "      <th></th>\n",
       "      <th>fpath</th>\n",
       "      <th>subject</th>\n",
       "      <th>payload</th>\n",
       "      <th>contenttype</th>\n",
       "      <th>isSpam</th>\n",
       "    </tr>\n",
       "  </thead>\n",
       "  <tbody>\n",
       "    <tr>\n",
       "      <th>0</th>\n",
       "      <td>C:\\Users\\research_laptop\\Desktop\\projects\\scho...</td>\n",
       "      <td>Re: New Sequences Window</td>\n",
       "      <td>Date        Wed 21 Aug 2002 105446 0500   ...</td>\n",
       "      <td>text/plain</td>\n",
       "      <td>0.0</td>\n",
       "    </tr>\n",
       "    <tr>\n",
       "      <th>1</th>\n",
       "      <td>C:\\Users\\research_laptop\\Desktop\\projects\\scho...</td>\n",
       "      <td>[zzzzteana] RE: Alexander</td>\n",
       "      <td>Martin A postedTassos Papadopoulos the Greek s...</td>\n",
       "      <td>text/plain</td>\n",
       "      <td>0.0</td>\n",
       "    </tr>\n",
       "    <tr>\n",
       "      <th>2</th>\n",
       "      <td>C:\\Users\\research_laptop\\Desktop\\projects\\scho...</td>\n",
       "      <td>[zzzzteana] Moscow bomber</td>\n",
       "      <td>Man Threatens Explosion In Moscow Thursday Aug...</td>\n",
       "      <td>text/plain</td>\n",
       "      <td>0.0</td>\n",
       "    </tr>\n",
       "    <tr>\n",
       "      <th>3</th>\n",
       "      <td>C:\\Users\\research_laptop\\Desktop\\projects\\scho...</td>\n",
       "      <td>[IRR] Klez: The Virus That  Won't Die</td>\n",
       "      <td>Klez The Virus That Wont Die Already the most ...</td>\n",
       "      <td>text/plain</td>\n",
       "      <td>0.0</td>\n",
       "    </tr>\n",
       "    <tr>\n",
       "      <th>4</th>\n",
       "      <td>C:\\Users\\research_laptop\\Desktop\\projects\\scho...</td>\n",
       "      <td>Re: [zzzzteana] Nothing like mama used to make</td>\n",
       "      <td>in adding cream to spaghetti carbonara which...</td>\n",
       "      <td>text/plain</td>\n",
       "      <td>0.0</td>\n",
       "    </tr>\n",
       "  </tbody>\n",
       "</table>\n",
       "</div>"
      ],
      "text/plain": [
       "                                               fpath  \\\n",
       "0  C:\\Users\\research_laptop\\Desktop\\projects\\scho...   \n",
       "1  C:\\Users\\research_laptop\\Desktop\\projects\\scho...   \n",
       "2  C:\\Users\\research_laptop\\Desktop\\projects\\scho...   \n",
       "3  C:\\Users\\research_laptop\\Desktop\\projects\\scho...   \n",
       "4  C:\\Users\\research_laptop\\Desktop\\projects\\scho...   \n",
       "\n",
       "                                          subject  \\\n",
       "0                        Re: New Sequences Window   \n",
       "1                       [zzzzteana] RE: Alexander   \n",
       "2                       [zzzzteana] Moscow bomber   \n",
       "3           [IRR] Klez: The Virus That  Won't Die   \n",
       "4  Re: [zzzzteana] Nothing like mama used to make   \n",
       "\n",
       "                                             payload contenttype  isSpam  \n",
       "0      Date        Wed 21 Aug 2002 105446 0500   ...  text/plain     0.0  \n",
       "1  Martin A postedTassos Papadopoulos the Greek s...  text/plain     0.0  \n",
       "2  Man Threatens Explosion In Moscow Thursday Aug...  text/plain     0.0  \n",
       "3  Klez The Virus That Wont Die Already the most ...  text/plain     0.0  \n",
       "4    in adding cream to spaghetti carbonara which...  text/plain     0.0  "
      ]
     },
     "execution_count": 38,
     "metadata": {},
     "output_type": "execute_result"
    }
   ],
   "source": [
    "df.head()"
   ]
  },
  {
   "cell_type": "code",
   "execution_count": 40,
   "metadata": {},
   "outputs": [
    {
     "data": {
      "text/plain": [
       "<9353x189101 sparse matrix of type '<class 'numpy.int64'>'\n",
       "\twith 1235764 stored elements in Compressed Sparse Row format>"
      ]
     },
     "execution_count": 40,
     "metadata": {},
     "output_type": "execute_result"
    }
   ],
   "source": [
    "from sklearn.feature_extraction.text import CountVectorizer\n",
    "vect = CountVectorizer(lowercase=True, stop_words='english')\n",
    "cv_data = vect.fit_transform(df['payload'])\n",
    "cv_data"
   ]
  },
  {
   "cell_type": "code",
   "execution_count": 53,
   "metadata": {},
   "outputs": [],
   "source": [
    "count_vect_df = pd.DataFrame(cv_data.todense(), columns=vect.get_feature_names_out())\n",
    "combined_df = pd.concat([df, count_vect_df], axis=1)"
   ]
  },
  {
   "cell_type": "code",
   "execution_count": 54,
   "metadata": {},
   "outputs": [
    {
     "data": {
      "text/html": [
       "<div>\n",
       "<style scoped>\n",
       "    .dataframe tbody tr th:only-of-type {\n",
       "        vertical-align: middle;\n",
       "    }\n",
       "\n",
       "    .dataframe tbody tr th {\n",
       "        vertical-align: top;\n",
       "    }\n",
       "\n",
       "    .dataframe thead th {\n",
       "        text-align: right;\n",
       "    }\n",
       "</style>\n",
       "<table border=\"1\" class=\"dataframe\">\n",
       "  <thead>\n",
       "    <tr style=\"text-align: right;\">\n",
       "      <th></th>\n",
       "      <th>payload</th>\n",
       "      <th>contenttype</th>\n",
       "      <th>isSpam</th>\n",
       "      <th>00</th>\n",
       "      <th>000</th>\n",
       "      <th>0000</th>\n",
       "      <th>00000</th>\n",
       "      <th>000000</th>\n",
       "      <th>000000000000000000000000000032526amp3b223bbon203d2027273bwith2</th>\n",
       "      <th>000000000000000000000365000000000000000000000000000000000000000003640000</th>\n",
       "      <th>...</th>\n",
       "      <th>þàïáö¼ò</th>\n",
       "      <th>þë</th>\n",
       "      <th>þîñ</th>\n",
       "      <th>þõµ</th>\n",
       "      <th>þö</th>\n",
       "      <th>þööööà</th>\n",
       "      <th>þüg</th>\n",
       "      <th>ÿÿ</th>\n",
       "      <th>ÿÿã</th>\n",
       "      <th>ÿÿÿÿÿÿÿÿÿÿÿÿÿÿÿÿÿÿÿÿÿÿÿÿÿÿÿÿÿÿÿÿÿÿÿò</th>\n",
       "    </tr>\n",
       "  </thead>\n",
       "  <tbody>\n",
       "    <tr>\n",
       "      <th>0</th>\n",
       "      <td>Date        Wed 21 Aug 2002 105446 0500   ...</td>\n",
       "      <td>text/plain</td>\n",
       "      <td>0.0</td>\n",
       "      <td>0</td>\n",
       "      <td>0</td>\n",
       "      <td>0</td>\n",
       "      <td>0</td>\n",
       "      <td>0</td>\n",
       "      <td>0</td>\n",
       "      <td>0</td>\n",
       "      <td>...</td>\n",
       "      <td>0</td>\n",
       "      <td>0</td>\n",
       "      <td>0</td>\n",
       "      <td>0</td>\n",
       "      <td>0</td>\n",
       "      <td>0</td>\n",
       "      <td>0</td>\n",
       "      <td>0</td>\n",
       "      <td>0</td>\n",
       "      <td>0</td>\n",
       "    </tr>\n",
       "    <tr>\n",
       "      <th>1</th>\n",
       "      <td>Martin A postedTassos Papadopoulos the Greek s...</td>\n",
       "      <td>text/plain</td>\n",
       "      <td>0.0</td>\n",
       "      <td>0</td>\n",
       "      <td>0</td>\n",
       "      <td>0</td>\n",
       "      <td>0</td>\n",
       "      <td>0</td>\n",
       "      <td>0</td>\n",
       "      <td>0</td>\n",
       "      <td>...</td>\n",
       "      <td>0</td>\n",
       "      <td>0</td>\n",
       "      <td>0</td>\n",
       "      <td>0</td>\n",
       "      <td>0</td>\n",
       "      <td>0</td>\n",
       "      <td>0</td>\n",
       "      <td>0</td>\n",
       "      <td>0</td>\n",
       "      <td>0</td>\n",
       "    </tr>\n",
       "    <tr>\n",
       "      <th>2</th>\n",
       "      <td>Man Threatens Explosion In Moscow Thursday Aug...</td>\n",
       "      <td>text/plain</td>\n",
       "      <td>0.0</td>\n",
       "      <td>0</td>\n",
       "      <td>0</td>\n",
       "      <td>0</td>\n",
       "      <td>0</td>\n",
       "      <td>0</td>\n",
       "      <td>0</td>\n",
       "      <td>0</td>\n",
       "      <td>...</td>\n",
       "      <td>0</td>\n",
       "      <td>0</td>\n",
       "      <td>0</td>\n",
       "      <td>0</td>\n",
       "      <td>0</td>\n",
       "      <td>0</td>\n",
       "      <td>0</td>\n",
       "      <td>0</td>\n",
       "      <td>0</td>\n",
       "      <td>0</td>\n",
       "    </tr>\n",
       "    <tr>\n",
       "      <th>3</th>\n",
       "      <td>Klez The Virus That Wont Die Already the most ...</td>\n",
       "      <td>text/plain</td>\n",
       "      <td>0.0</td>\n",
       "      <td>0</td>\n",
       "      <td>0</td>\n",
       "      <td>0</td>\n",
       "      <td>0</td>\n",
       "      <td>0</td>\n",
       "      <td>0</td>\n",
       "      <td>0</td>\n",
       "      <td>...</td>\n",
       "      <td>0</td>\n",
       "      <td>0</td>\n",
       "      <td>0</td>\n",
       "      <td>0</td>\n",
       "      <td>0</td>\n",
       "      <td>0</td>\n",
       "      <td>0</td>\n",
       "      <td>0</td>\n",
       "      <td>0</td>\n",
       "      <td>0</td>\n",
       "    </tr>\n",
       "    <tr>\n",
       "      <th>4</th>\n",
       "      <td>in adding cream to spaghetti carbonara which...</td>\n",
       "      <td>text/plain</td>\n",
       "      <td>0.0</td>\n",
       "      <td>0</td>\n",
       "      <td>0</td>\n",
       "      <td>0</td>\n",
       "      <td>0</td>\n",
       "      <td>0</td>\n",
       "      <td>0</td>\n",
       "      <td>0</td>\n",
       "      <td>...</td>\n",
       "      <td>0</td>\n",
       "      <td>0</td>\n",
       "      <td>0</td>\n",
       "      <td>0</td>\n",
       "      <td>0</td>\n",
       "      <td>0</td>\n",
       "      <td>0</td>\n",
       "      <td>0</td>\n",
       "      <td>0</td>\n",
       "      <td>0</td>\n",
       "    </tr>\n",
       "  </tbody>\n",
       "</table>\n",
       "<p>5 rows × 189103 columns</p>\n",
       "</div>"
      ],
      "text/plain": [
       "                                             payload contenttype  isSpam  00  \\\n",
       "0      Date        Wed 21 Aug 2002 105446 0500   ...  text/plain     0.0   0   \n",
       "1  Martin A postedTassos Papadopoulos the Greek s...  text/plain     0.0   0   \n",
       "2  Man Threatens Explosion In Moscow Thursday Aug...  text/plain     0.0   0   \n",
       "3  Klez The Virus That Wont Die Already the most ...  text/plain     0.0   0   \n",
       "4    in adding cream to spaghetti carbonara which...  text/plain     0.0   0   \n",
       "\n",
       "   000  0000  00000  000000  \\\n",
       "0    0     0      0       0   \n",
       "1    0     0      0       0   \n",
       "2    0     0      0       0   \n",
       "3    0     0      0       0   \n",
       "4    0     0      0       0   \n",
       "\n",
       "   000000000000000000000000000032526amp3b223bbon203d2027273bwith2  \\\n",
       "0                                                  0                \n",
       "1                                                  0                \n",
       "2                                                  0                \n",
       "3                                                  0                \n",
       "4                                                  0                \n",
       "\n",
       "   000000000000000000000365000000000000000000000000000000000000000003640000  \\\n",
       "0                                                  0                          \n",
       "1                                                  0                          \n",
       "2                                                  0                          \n",
       "3                                                  0                          \n",
       "4                                                  0                          \n",
       "\n",
       "   ...  þàïáö¼ò  þë  þîñ  þõµ  þö  þööööà  þüg  ÿÿ  ÿÿã  \\\n",
       "0  ...        0   0    0    0   0       0    0   0    0   \n",
       "1  ...        0   0    0    0   0       0    0   0    0   \n",
       "2  ...        0   0    0    0   0       0    0   0    0   \n",
       "3  ...        0   0    0    0   0       0    0   0    0   \n",
       "4  ...        0   0    0    0   0       0    0   0    0   \n",
       "\n",
       "   ÿÿÿÿÿÿÿÿÿÿÿÿÿÿÿÿÿÿÿÿÿÿÿÿÿÿÿÿÿÿÿÿÿÿÿò  \n",
       "0                                     0  \n",
       "1                                     0  \n",
       "2                                     0  \n",
       "3                                     0  \n",
       "4                                     0  \n",
       "\n",
       "[5 rows x 189103 columns]"
      ]
     },
     "execution_count": 54,
     "metadata": {},
     "output_type": "execute_result"
    }
   ],
   "source": [
    "combined_df.drop(['fpath', 'subject'], axis=1, inplace=True)\n",
    "combined_df.head()"
   ]
  },
  {
   "cell_type": "code",
   "execution_count": 61,
   "metadata": {},
   "outputs": [],
   "source": [
    "from sklearn.neighbors import NearestNeighbors\n",
    "from sklearn.model_selection import train_test_split\n",
    "import numpy as np\n",
    "import matplotlib.pyplot as plt"
   ]
  },
  {
   "cell_type": "code",
   "execution_count": 58,
   "metadata": {},
   "outputs": [],
   "source": [
    "y = combined_df['isSpam']\n",
    "x = combined_df.drop('isSpam', axis=1)\n"
   ]
  },
  {
   "cell_type": "code",
   "execution_count": 64,
   "metadata": {},
   "outputs": [],
   "source": [
    "error_rate = []\n",
    "knn = NearestNeighbors(n_neighbors=5)\n",
    "\n",
    "#knn.fit(X_train, y_train)\n",
    "#pred = knn.predict(X_test)\n",
    "#error_rate.append(np.mean(pred != y_test))"
   ]
  },
  {
   "cell_type": "code",
   "execution_count": 78,
   "metadata": {},
   "outputs": [],
   "source": [
    "tmp = combined_df.sample(frac=0.8)\n",
    "y_train = tmp['isSpam']\n",
    "x_train = tmp.drop(['isSpam', 'payload', 'contenttype'], axis=1)\n"
   ]
  },
  {
   "cell_type": "code",
   "execution_count": 80,
   "metadata": {},
   "outputs": [],
   "source": [
    "tmp2 = combined_df[~combined_df.index.isin(tmp)]\n",
    "y_test = tmp2['isSpam']\n",
    "x_test = tmp2.drop(['isSpam', 'payload', 'contenttype'], axis=1)"
   ]
  },
  {
   "cell_type": "code",
   "execution_count": 81,
   "metadata": {},
   "outputs": [
    {
     "ename": "AttributeError",
     "evalue": "'NearestNeighbors' object has no attribute 'predict'",
     "output_type": "error",
     "traceback": [
      "\u001b[1;31m---------------------------------------------------------------------------\u001b[0m",
      "\u001b[1;31mAttributeError\u001b[0m                            Traceback (most recent call last)",
      "\u001b[1;32mc:\\Users\\research_laptop\\Desktop\\projects\\school\\ds7333\\projects\\ds7333\\03-project\\scripts\\03-project_mitchell.ipynb Cell 13\u001b[0m in \u001b[0;36m<cell line: 2>\u001b[1;34m()\u001b[0m\n\u001b[0;32m      <a href='vscode-notebook-cell:/c%3A/Users/research_laptop/Desktop/projects/school/ds7333/projects/ds7333/03-project/scripts/03-project_mitchell.ipynb#X20sZmlsZQ%3D%3D?line=0'>1</a>\u001b[0m knn\u001b[39m.\u001b[39mfit(x_train, y_train)\n\u001b[1;32m----> <a href='vscode-notebook-cell:/c%3A/Users/research_laptop/Desktop/projects/school/ds7333/projects/ds7333/03-project/scripts/03-project_mitchell.ipynb#X20sZmlsZQ%3D%3D?line=1'>2</a>\u001b[0m pred\u001b[39m=\u001b[39m knn\u001b[39m.\u001b[39;49mpredict(x_test)\n\u001b[0;32m      <a href='vscode-notebook-cell:/c%3A/Users/research_laptop/Desktop/projects/school/ds7333/projects/ds7333/03-project/scripts/03-project_mitchell.ipynb#X20sZmlsZQ%3D%3D?line=2'>3</a>\u001b[0m error_rate\u001b[39m.\u001b[39mappend(np\u001b[39m.\u001b[39mmean(pred \u001b[39m!=\u001b[39m y_test))\n",
      "\u001b[1;31mAttributeError\u001b[0m: 'NearestNeighbors' object has no attribute 'predict'"
     ]
    }
   ],
   "source": [
    "knn.fit(x_train, y_train)\n",
    "knn.\n",
    "error_rate.append(np.mean(pred != y_test))"
   ]
  },
  {
   "cell_type": "code",
   "execution_count": 86,
   "metadata": {},
   "outputs": [],
   "source": [
    "from sklearn.metrics import silhouette_score\n",
    "from sklearn.cluster import KMeans\n",
    "sil = []\n",
    "kmax = 3\n",
    "for k in range(2, kmax):\n",
    "    kmeans = KMeans(n_clusters = k).fit(x_train)\n",
    "    labels = kmeans.labels_\n",
    "    sil.append(silhouette_score(x_train, labels, metric = 'euclidean'))"
   ]
  },
  {
   "cell_type": "code",
   "execution_count": 89,
   "metadata": {},
   "outputs": [],
   "source": [
    "sil = []\n",
    "tmp = combined_df.drop(['isSpam', 'payload', 'contenttype'], axis=1)\n",
    "kmeans = KMeans(n_clusters = 5).fit(tmp)\n",
    "labels = kmeans.labels_\n",
    "sil.append(silhouette_score(tmp, labels, metric = 'euclidean'))"
   ]
  },
  {
   "cell_type": "code",
   "execution_count": 97,
   "metadata": {},
   "outputs": [],
   "source": [
    "sil = []\n",
    "kmax = 50\n",
    "for k in range(2, kmax):\n",
    "    kmeans = KMeans(n_clusters=k).fit(tmp)\n",
    "    labels = kmeans.labels_\n",
    "    sil.append(silhouette_score(tmp,labels, metric='euclidean'))\n"
   ]
  },
  {
   "cell_type": "code",
   "execution_count": 88,
   "metadata": {},
   "outputs": [
    {
     "data": {
      "text/plain": [
       "[0.8813995044756892]"
      ]
     },
     "execution_count": 88,
     "metadata": {},
     "output_type": "execute_result"
    }
   ],
   "source": [
    "sil.index(max(sil))\n",
    "sil"
   ]
  },
  {
   "cell_type": "code",
   "execution_count": null,
   "metadata": {},
   "outputs": [],
   "source": [
    "plt.figure(figsize=(15,10))\n",
    "plt.plot(range(1,50),error_rate, marker='o', markersize=9)"
   ]
  }
 ],
 "metadata": {
  "kernelspec": {
   "display_name": "Python 3",
   "language": "python",
   "name": "python3"
  },
  "language_info": {
   "codemirror_mode": {
    "name": "ipython",
    "version": 3
   },
   "file_extension": ".py",
   "mimetype": "text/x-python",
   "name": "python",
   "nbconvert_exporter": "python",
   "pygments_lexer": "ipython3",
   "version": "3.9.13"
  },
  "orig_nbformat": 4,
  "vscode": {
   "interpreter": {
    "hash": "2cd5a885649300fac346bfc045886ced9b1b369e25d561646fb2c4440b5a45a0"
   }
  }
 },
 "nbformat": 4,
 "nbformat_minor": 2
}
